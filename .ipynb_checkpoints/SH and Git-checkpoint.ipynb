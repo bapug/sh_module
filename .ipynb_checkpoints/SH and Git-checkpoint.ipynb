{
 "cells": [
  {
   "cell_type": "code",
   "execution_count": 35,
   "metadata": {
    "collapsed": true
   },
   "outputs": [],
   "source": [
    "from sh import git, ls, head\n",
    "d=\"/Users/kutenai/Downloads\""
   ]
  },
  {
   "cell_type": "code",
   "execution_count": 40,
   "metadata": {
    "collapsed": false
   },
   "outputs": [
    {
     "data": {
      "text/plain": []
     },
     "execution_count": 40,
     "metadata": {},
     "output_type": "execute_result"
    }
   ],
   "source": [
    "git(\"branch\")"
   ]
  },
  {
   "cell_type": "code",
   "execution_count": 41,
   "metadata": {
    "collapsed": false
   },
   "outputs": [
    {
     "ename": "ErrorReturnCode_128",
     "evalue": "\n\n  RAN: '/usr/bin/git remote add origin git@github.com:bapug/sh_module.git'\n\n  STDOUT:\n\n\n  STDERR:\nfatal: remote origin already exists.\n",
     "output_type": "error",
     "traceback": [
      "\u001b[0;31m---------------------------------------------------------------------------\u001b[0m",
      "\u001b[0;31mErrorReturnCode_128\u001b[0m                       Traceback (most recent call last)",
      "\u001b[0;32m<ipython-input-41-0d3d7e94dbbc>\u001b[0m in \u001b[0;36m<module>\u001b[0;34m()\u001b[0m\n\u001b[0;32m----> 1\u001b[0;31m \u001b[0mgit\u001b[0m\u001b[0;34m(\u001b[0m\u001b[0;34m\"remote\"\u001b[0m\u001b[0;34m,\u001b[0m \u001b[0;34m\"add\"\u001b[0m\u001b[0;34m,\u001b[0m \u001b[0;34m\"origin\"\u001b[0m\u001b[0;34m,\u001b[0m \u001b[0;34m\"git@github.com:bapug/sh_module.git\"\u001b[0m\u001b[0;34m)\u001b[0m\u001b[0;34m\u001b[0m\u001b[0m\n\u001b[0m",
      "\u001b[0;32m/Users/kutenai/proj/bapug/sh_module/.pyvenv3/lib/python3.5/site-packages/sh.py\u001b[0m in \u001b[0;36m__call__\u001b[0;34m(self, *args, **kwargs)\u001b[0m\n\u001b[1;32m   1019\u001b[0m \u001b[0;34m\u001b[0m\u001b[0m\n\u001b[1;32m   1020\u001b[0m \u001b[0;34m\u001b[0m\u001b[0m\n\u001b[0;32m-> 1021\u001b[0;31m         \u001b[0;32mreturn\u001b[0m \u001b[0mRunningCommand\u001b[0m\u001b[0;34m(\u001b[0m\u001b[0mcmd\u001b[0m\u001b[0;34m,\u001b[0m \u001b[0mcall_args\u001b[0m\u001b[0;34m,\u001b[0m \u001b[0mstdin\u001b[0m\u001b[0;34m,\u001b[0m \u001b[0mstdout\u001b[0m\u001b[0;34m,\u001b[0m \u001b[0mstderr\u001b[0m\u001b[0;34m)\u001b[0m\u001b[0;34m\u001b[0m\u001b[0m\n\u001b[0m\u001b[1;32m   1022\u001b[0m \u001b[0;34m\u001b[0m\u001b[0m\n\u001b[1;32m   1023\u001b[0m \u001b[0;34m\u001b[0m\u001b[0m\n",
      "\u001b[0;32m/Users/kutenai/proj/bapug/sh_module/.pyvenv3/lib/python3.5/site-packages/sh.py\u001b[0m in \u001b[0;36m__init__\u001b[0;34m(self, cmd, call_args, stdin, stdout, stderr)\u001b[0m\n\u001b[1;32m    484\u001b[0m \u001b[0;34m\u001b[0m\u001b[0m\n\u001b[1;32m    485\u001b[0m             \u001b[0;32mif\u001b[0m \u001b[0mshould_wait\u001b[0m\u001b[0;34m:\u001b[0m\u001b[0;34m\u001b[0m\u001b[0m\n\u001b[0;32m--> 486\u001b[0;31m                 \u001b[0mself\u001b[0m\u001b[0;34m.\u001b[0m\u001b[0mwait\u001b[0m\u001b[0;34m(\u001b[0m\u001b[0;34m)\u001b[0m\u001b[0;34m\u001b[0m\u001b[0m\n\u001b[0m\u001b[1;32m    487\u001b[0m \u001b[0;34m\u001b[0m\u001b[0m\n\u001b[1;32m    488\u001b[0m \u001b[0;34m\u001b[0m\u001b[0m\n",
      "\u001b[0;32m/Users/kutenai/proj/bapug/sh_module/.pyvenv3/lib/python3.5/site-packages/sh.py\u001b[0m in \u001b[0;36mwait\u001b[0;34m(self)\u001b[0m\n\u001b[1;32m    498\u001b[0m                 \u001b[0;32mraise\u001b[0m \u001b[0mTimeoutException\u001b[0m\u001b[0;34m(\u001b[0m\u001b[0;34m-\u001b[0m\u001b[0mexit_code\u001b[0m\u001b[0;34m)\u001b[0m\u001b[0;34m\u001b[0m\u001b[0m\n\u001b[1;32m    499\u001b[0m             \u001b[0;32melse\u001b[0m\u001b[0;34m:\u001b[0m\u001b[0;34m\u001b[0m\u001b[0m\n\u001b[0;32m--> 500\u001b[0;31m                 \u001b[0mself\u001b[0m\u001b[0;34m.\u001b[0m\u001b[0mhandle_command_exit_code\u001b[0m\u001b[0;34m(\u001b[0m\u001b[0mexit_code\u001b[0m\u001b[0;34m)\u001b[0m\u001b[0;34m\u001b[0m\u001b[0m\n\u001b[0m\u001b[1;32m    501\u001b[0m \u001b[0;34m\u001b[0m\u001b[0m\n\u001b[1;32m    502\u001b[0m             \u001b[0;31m# https://github.com/amoffat/sh/issues/185\u001b[0m\u001b[0;34m\u001b[0m\u001b[0;34m\u001b[0m\u001b[0m\n",
      "\u001b[0;32m/Users/kutenai/proj/bapug/sh_module/.pyvenv3/lib/python3.5/site-packages/sh.py\u001b[0m in \u001b[0;36mhandle_command_exit_code\u001b[0;34m(self, code)\u001b[0m\n\u001b[1;32m    514\u001b[0m             SIGNALS_THAT_SHOULD_THROW_EXCEPTION)):\n\u001b[1;32m    515\u001b[0m             \u001b[0mexc\u001b[0m \u001b[0;34m=\u001b[0m \u001b[0mget_rc_exc\u001b[0m\u001b[0;34m(\u001b[0m\u001b[0mcode\u001b[0m\u001b[0;34m)\u001b[0m\u001b[0;34m\u001b[0m\u001b[0m\n\u001b[0;32m--> 516\u001b[0;31m             \u001b[0;32mraise\u001b[0m \u001b[0mexc\u001b[0m\u001b[0;34m(\u001b[0m\u001b[0mself\u001b[0m\u001b[0;34m.\u001b[0m\u001b[0mran\u001b[0m\u001b[0;34m,\u001b[0m \u001b[0mself\u001b[0m\u001b[0;34m.\u001b[0m\u001b[0mprocess\u001b[0m\u001b[0;34m.\u001b[0m\u001b[0mstdout\u001b[0m\u001b[0;34m,\u001b[0m \u001b[0mself\u001b[0m\u001b[0;34m.\u001b[0m\u001b[0mprocess\u001b[0m\u001b[0;34m.\u001b[0m\u001b[0mstderr\u001b[0m\u001b[0;34m)\u001b[0m\u001b[0;34m\u001b[0m\u001b[0m\n\u001b[0m\u001b[1;32m    517\u001b[0m \u001b[0;34m\u001b[0m\u001b[0m\n\u001b[1;32m    518\u001b[0m \u001b[0;34m\u001b[0m\u001b[0m\n",
      "\u001b[0;31mErrorReturnCode_128\u001b[0m: \n\n  RAN: '/usr/bin/git remote add origin git@github.com:bapug/sh_module.git'\n\n  STDOUT:\n\n\n  STDERR:\nfatal: remote origin already exists.\n"
     ]
    }
   ],
   "source": [
    "git(\"remote\", \"add\", \"origin\", \"git@github.com:bapug/sh_module.git\")"
   ]
  },
  {
   "cell_type": "code",
   "execution_count": 42,
   "metadata": {
    "collapsed": false
   },
   "outputs": [
    {
     "data": {
      "text/plain": [
       "origin\tgit@github.com:bapug/sh_module.git (fetch)\n",
       "origin\tgit@github.com:bapug/sh_module.git (push)"
      ]
     },
     "execution_count": 42,
     "metadata": {},
     "output_type": "execute_result"
    }
   ],
   "source": [
    "git(\"remote\", \"-v\")"
   ]
  },
  {
   "cell_type": "code",
   "execution_count": 7,
   "metadata": {
    "collapsed": false
   },
   "outputs": [
    {
     "data": {
      "text/plain": [
       "origin\tgit@github.com:bapug/sh_module.git (fetch)\n",
       "origin\tgit@github.com:bapug/sh_module.git (push)"
      ]
     },
     "execution_count": 7,
     "metadata": {},
     "output_type": "execute_result"
    }
   ],
   "source": [
    "git.remote(\"-v\")"
   ]
  },
  {
   "cell_type": "markdown",
   "metadata": {},
   "source": [
    "Sometimes, you have a few options that you'd like to use over and over again, and just specify them in one place. \n",
    "For this, you can 'bake' the options into a command"
   ]
  },
  {
   "cell_type": "code",
   "execution_count": 8,
   "metadata": {
    "collapsed": true
   },
   "outputs": [],
   "source": [
    "fetch = git.bake(\"fetch\", \"--all\", \"--prune\")"
   ]
  },
  {
   "cell_type": "code",
   "execution_count": 43,
   "metadata": {
    "collapsed": false
   },
   "outputs": [
    {
     "data": {
      "text/plain": [
       "Fetching origin"
      ]
     },
     "execution_count": 43,
     "metadata": {},
     "output_type": "execute_result"
    }
   ],
   "source": [
    "fetch()"
   ]
  },
  {
   "cell_type": "code",
   "execution_count": 44,
   "metadata": {
    "collapsed": false
   },
   "outputs": [
    {
     "data": {
      "text/plain": [
       "SH Command Demo2.ipynb SH and Git.ipynb       python\n",
       "SH Demo2.ipynb         Sh Demo3.ipynb\n",
       "SH Module.ipynb        page.html"
      ]
     },
     "execution_count": 44,
     "metadata": {},
     "output_type": "execute_result"
    }
   ],
   "source": [
    "ls()"
   ]
  },
  {
   "cell_type": "code",
   "execution_count": 45,
   "metadata": {
    "collapsed": true
   },
   "outputs": [],
   "source": [
    "ll = ls.bake(\"-l\", \"-a\")"
   ]
  },
  {
   "cell_type": "code",
   "execution_count": 46,
   "metadata": {
    "collapsed": false
   },
   "outputs": [
    {
     "data": {
      "text/plain": [
       "total 248\n",
       "drwxr-xr-x  13 kutenai  staff    442 Sep 14 18:49 \u001b[34m.\u001b[m\u001b[m\n",
       "drwxr-xr-x   7 kutenai  staff    238 Sep 14 15:55 \u001b[34m..\u001b[m\u001b[m\n",
       "drwxr-xr-x  12 kutenai  staff    408 Sep 14 16:52 \u001b[34m.git\u001b[m\u001b[m\n",
       "drwxr-xr-x   7 kutenai  staff    238 Sep 14 18:23 \u001b[34m.idea\u001b[m\u001b[m\n",
       "drwxr-xr-x   7 kutenai  staff    238 Sep 14 18:25 \u001b[34m.ipynb_checkpoints\u001b[m\u001b[m\n",
       "drwxr-xr-x   8 kutenai  staff    272 Sep 14 15:57 \u001b[34m.pyvenv3\u001b[m\u001b[m\n",
       "-rw-r--r--   1 kutenai  staff  27906 Sep 14 18:46 SH Command Demo2.ipynb\n",
       "-rw-r--r--   1 kutenai  staff  10564 Sep 14 18:45 SH Demo2.ipynb\n",
       "-rw-r--r--   1 kutenai  staff   6135 Sep 14 18:41 SH Module.ipynb\n",
       "-rw-r--r--   1 kutenai  staff  44732 Sep 14 18:49 SH and Git.ipynb\n",
       "-rw-r--r--   1 kutenai  staff  17148 Sep 14 18:48 Sh Demo3.ipynb\n",
       "-rw-r--r--   1 kutenai  staff   5009 Sep 14 18:45 page.html\n",
       "-rw-r--r--   1 kutenai  staff    178 Sep 14 16:22 python"
      ]
     },
     "execution_count": 46,
     "metadata": {},
     "output_type": "execute_result"
    }
   ],
   "source": [
    "ll()"
   ]
  },
  {
   "cell_type": "code",
   "execution_count": 47,
   "metadata": {
    "collapsed": false
   },
   "outputs": [],
   "source": [
    "recent = ll.bake(\"-t\")"
   ]
  },
  {
   "cell_type": "code",
   "execution_count": 48,
   "metadata": {
    "collapsed": false
   },
   "outputs": [
    {
     "data": {
      "text/plain": [
       "total 28721704\n",
       "drwx------+ 182 kutenai  staff        6188 Sep 14 15:41 \u001b[34m.\u001b[m\u001b[m\n",
       "-rw-r--r--@   1 kutenai  staff   273751675 Sep 14 15:41 ParallelsDesktop-12.0.1-41296.dmg\n",
       "-rw-------@   1 kutenai  staff       21385 Sep 14 09:28 Ed Henderson 2016 Fall Friday-7pm-1.xlsx\n",
       "-rw-------@   1 kutenai  staff       21419 Sep 14 09:19 Ed Henderson 2016 Fall Friday-7pm.xlsx\n",
       "-rw-r--r--@   1 kutenai  staff       10244 Sep 13 07:35 .DS_Store\n",
       "-rw-r--r--@   1 kutenai  staff    33329801 Sep 10 23:29 slingtv (1).dmg\n",
       "drwxr-xr-x@  78 kutenai  staff        2652 Sep  8 14:07 \u001b[34m..\u001b[m\u001b[m\n",
       "-rw-r--r--@   1 kutenai  staff   492797297 Sep  8 13:39 ideaIU-2016.2.3.dmg\n",
       "-rw-r--r--@   1 kutenai  staff   207564174 Sep  4 07:38 WebStorm-2016.2.2.dmg\n",
       "-rw-r--r--@   1 kutenai  staff   262735293 Sep  4 06:06 pycharm-professional-2016.2.2.dmg\n",
       "-rw-------    1 kutenai  staff      143059 Sep  4 04:25 Vision diagram - Ed-1.pdf\n",
       "-rw-------    1 kutenai  staff      142223 Sep  4 04:25 Vision diagram - Ricky.pdf\n",
       "-rw-------    1 kutenai  staff      143059 Sep  4 04:25 Vision diagram - Ed.pdf\n",
       "-rw-r--r--@   1 kutenai  staff      132482 Sep  2 16:56 commercial price list (2).pdf\n",
       "-rw-r--r--@   1 kutenai  staff      294025 Aug 30 10:12 graph-basic_2016-08-30.zip\n",
       "-rw-r--r--@   1 kutenai  staff    11106359 Aug 25 10:38 SkypeMeetingsApp.dmg\n",
       "-rw-r--r--@   1 kutenai  staff         681 Aug 17 09:11 idea.py\n",
       "-rw-r--r--@   1 kutenai  staff    10618429 Aug  8 12:18 NetSpot.dmg\n",
       "-rw-------@   1 kutenai  staff         439 Aug  8 11:50 pb_mime_attachment.png\n",
       "-rw-------@   1 kutenai  staff      150972 Aug  8 11:39 Integration Scorecards August 8 2016.pptx\n",
       "-rw-r--r--@   1 kutenai  staff      288413 Aug  7 12:28 FlashPlayer.dmg\n",
       "-rw-r--r--@   1 kutenai  staff    37349043 Aug  7 09:44 vlc-2.2.4.dmg\n",
       "-rw-r--r--@   1 kutenai  staff    53623304 Aug  7 09:10 Discord.dmg\n",
       "-rw-r--r--@   1 kutenai  staff     7272499 Aug  4 15:06 Transmit Disk 4.4.11.pkg\n",
       "-rw-r--r--@   1 kutenai  staff    31711400 Aug  4 15:02 Transmit 4.4.10.zip\n",
       "-rw-r--r--@   1 kutenai  staff    58320969 Aug  4 14:47 pymakr_1.0.0.b1.dmg\n",
       "-rw-r--r--@   1 kutenai  staff   128762689 Aug  2 04:45 UniFi.pkg\n",
       "-rw-r--r--@   1 kutenai  staff       29246 Aug  1 09:41 c637c47c-3ca5-4d4c-a0d9-28b481e9f7d8_crsl.png\n",
       "-rw-r--r--@   1 kutenai  staff    10881891 Aug  1 09:14 D3-Tips-and-Tricks.pdf\n",
       "-rw-r--r--@   1 kutenai  staff    90139453 Jul 31 19:10 GoogleEarthMac-Intel.dmg\n",
       "-rw-r--r--@   1 kutenai  staff   262524861 Jul 30 11:08 pycharm-professional-2016.2.dmg\n",
       "-rw-r--r--@   1 kutenai  staff     2717510 Jul 29 21:47 Alfred_3.0.3_694.dmg\n",
       "-rw-r--r--@   1 kutenai  staff   101006702 Jul 29 21:45 openmv-ide-mac-1.0.0.dmg\n",
       "-rw-------@   1 kutenai  staff       51404 Jul 28 11:59 CHANNEL API DOCUMENTATION V0.1.docx\n",
       "drwxr-xr-x@  28 kutenai  staff         952 Jul 27 09:40 \u001b[34mbootstrap-4.0.0-alpha.3\u001b[m\u001b[m\n",
       "-rw-------@   1 kutenai  staff       91454 Jul 26 11:17 R.docx\n",
       "-rw-------    1 kutenai  staff      422279 Jul 20 13:16 AspenCore - Site Traffic - 52 weeks-1.pptx\n",
       "-rw-------@   1 kutenai  staff      422279 Jul 20 13:14 AspenCore - Site Traffic - 52 weeks.pptx\n",
       "-rw-r--r--@   1 kutenai  staff   201534556 Jul 15 09:44 WebStorm-2016.2.dmg\n",
       "-rw-r--r--@   1 kutenai  staff    28014077 Jul 11 12:45 apm_planner2_osx.dmg\n",
       "-rw-r--r--@   1 kutenai  staff    37381750 Jul 11 12:43 MissionPlanner-latest.msi\n",
       "-rw-r--r--@   1 kutenai  staff     9308672 Jul 10 12:06 Astropad.zip\n",
       "-rw-r--r--@   1 kutenai  staff    33329801 Jul  7 18:00 slingtv.dmg\n",
       "-rw-r--r--@   1 kutenai  staff    11260183 Jul  1 08:56 bcl-3.0.2-2016-06-30.zip\n",
       "-rw-r--r--@   1 kutenai  staff    39758732 Jun 30 07:43 irccloud-0.1.9.dmg\n",
       "-rw-------    1 kutenai  staff      102326 Jun 29 07:24 Payment Authorization Form-1.pdf\n",
       "-rw-------    1 kutenai  staff      102326 Jun 29 07:15 Payment Authorization Form.pdf\n",
       "-rw-r--r--@   1 kutenai  staff      323110 Jun 29 07:09 invoice.20638242-0.pdf\n",
       "-rw-r--r--@   1 kutenai  staff    88464798 Jun 28 07:58 Firefox 47.0.dmg\n",
       "-rw-r--r--@   1 kutenai  staff    27542289 Jun 27 19:17 elasticsearch-2.3.3.tar.gz\n",
       "-rw-r--r--@   1 kutenai  staff    78887475 Jun 27 19:16 logstash-2.3.3.tar.gz\n",
       "drwxr-xr-x    3 kutenai  staff         102 Jun 23 13:45 \u001b[34mCraftInstaller.1.app\u001b[m\u001b[m\n",
       "-rw-r--r--@   1 kutenai  staff     6444415 Jun 23 12:22 CraftInstaller (3).zip\n",
       "-rw-r--r--@   1 kutenai  staff     6444415 Jun 23 09:32 CraftInstaller (2).zip\n",
       "-rw-r--r--@   1 kutenai  staff     6444415 Jun 23 09:31 CraftInstaller (1).zip\n",
       "-rw-r--r--@   1 kutenai  staff      347894 Jun 22 14:33 1Password-4.5.6.xpi\n",
       "-rw-r--r--@   1 kutenai  staff    17933588 Jun 17 13:51 lcc3.9.3.zip\n",
       "-rw-r--r--@   1 kutenai  staff    14817466 Jun 11 16:55 node-v6.2.1.pkg\n",
       "-rw-r--r--@   1 kutenai  staff    12262574 Jun 11 09:26 TogglDesktop-7_3_319.dmg\n",
       "-rw-r--r--@   1 kutenai  staff    14868268 Jun  9 12:01 Screenhero.dmg\n",
       "drwxr-xr-x    5 kutenai  staff         170 Jun  4 18:16 \u001b[34mon-time-performance.zip Folder\u001b[m\u001b[m\n",
       "-rw-r--r--@   1 kutenai  staff    62161976 Jun  4 18:16 on-time-performance.zip\n",
       "-rw-r--r--@   1 kutenai  staff    25797015 Jun  4 15:50 Insync-1.3.8.36087.dmg\n",
       "-rw-r--r--@   1 kutenai  staff     4167996 Jun  4 15:45 DisplayLink USB Graphics Software for Mac OS X 2.5.1.dmg\n",
       "-rw-r--r--@   1 kutenai  staff     8686676 Jun  4 15:28 VimR-0.8.0.tar.bz2\n",
       "drwxr-xr-x    4 kutenai  staff         136 Jun  3 15:24 \u001b[34midea-multimarkdown\u001b[m\u001b[m\n",
       "-rw-r--r--@   1 kutenai  staff    15749812 Jun  3 15:05 idea-multimarkdown.1.7.0.zip\n",
       "-rw-r--r--@   1 kutenai  staff   106376902 Jun  3 13:09 Docker.dmg\n",
       "-rw-r--r--@   1 kutenai  staff     5414686 Jun  3 10:26 iTerm2-3_0_0.zip\n",
       "-rw-r--r--@   1 kutenai  staff     3189068 Jun  3 10:25 iTerm2-2_1_4 (1).zip\n",
       "-rw-r--r--@   1 kutenai  staff    95801982 Jun  2 18:38 Merge2016.4702-OSX10.11.dmg\n",
       "-rw-r--r--@   1 kutenai  staff    23550445 Jun  2 11:48 Tower-2-2.3.4-305.zip\n",
       "-rw-r--r--@   1 kutenai  staff     5915472 Jun  1 15:10 ansible-for-devops.pdf\n",
       "drwxr-xr-x    4 kutenai  staff         136 May 31 23:20 \u001b[34mweb.1\u001b[m\u001b[m\n",
       "drwxr-xr-x    4 kutenai  staff         136 May 31 23:20 \u001b[34mweb\u001b[m\u001b[m\n",
       "-rw-r--r--@   1 kutenai  staff      136684 May 31 23:20 bundle_vector.zip\n",
       "-rw-r--r--@   1 kutenai  staff      703309 May 31 23:19 bundle.zip\n",
       "drwxr-xr-x@  18 kutenai  staff         612 May 31 17:01 \u001b[34mopencv-2.4.13\u001b[m\u001b[m\n",
       "-rw-r--r--@   1 kutenai  staff    23157936 May 31 16:54 cmake-3.5.2-Darwin-x86_64.dmg\n",
       "-rw-r--r--@   1 kutenai  staff    94319943 May 31 16:38 opencv-2.4.13.zip\n",
       "-rw-r--r--@   1 kutenai  staff    15673527 May 28 12:19 node-v6.2.0.pkg\n",
       "drwxr-xr-x  275 kutenai  staff        9350 May 28 11:50 \u001b[34mtmux-2.2\u001b[m\u001b[m\n",
       "drwxr-xr-x  155 kutenai  staff        5270 May 28 11:48 \u001b[34mlibevent-2.0.22-stable\u001b[m\u001b[m\n",
       "-rw-r--r--@   1 kutenai  staff      854987 May 28 11:39 libevent-2.0.22-stable.tar.gz\n",
       "-rw-r--r--@   1 kutenai  staff      466852 May 28 11:37 tmux-2.2.tar.gz\n",
       "-rw-r--r--@   1 kutenai  staff      637410 May 27 08:47 Slack for iOS Upload.jpg\n",
       "-rw-r--r--@   1 kutenai  staff   188876895 May 12 16:16 DockerToolbox-1.11.1.pkg\n",
       "-rw-r--r--@   1 kutenai  staff    12681087 May  8 14:52 CA_Mac_Download.dmg\n",
       "-rw-r--r--@   1 kutenai  staff    37062879 May  8 14:52 CS4_Download.dmg\n",
       "-rw-r--r--@   1 kutenai  staff    12729114 May  8 12:08 ccc-4.1.7.4285.zip\n",
       "-rw-r--r--@   1 kutenai  staff   197472527 May  6 17:36 ghc-7.10.3-r1.zip\n",
       "-rw-r--r--@   1 kutenai  staff   238325665 May  3 09:09 jdk-8u91-macosx-x64.dmg\n",
       "-rw-r--r--@   1 kutenai  staff        3136 May  3 08:59 UID64_Generator-1.java\n",
       "-rw-r--r--@   1 kutenai  staff        3136 May  3 08:58 UID64_Generator (1).java\n",
       "-rw-r--r--@   1 kutenai  staff        3136 May  3 08:58 UID64_Generator (2).java\n",
       "-rw-r--r--@   1 kutenai  staff        3136 May  3 08:58 UID64_Generator.java\n",
       "drwxr-xr-x@   3 kutenai  staff         102 May  2 18:13 \u001b[34mmBlock_v3.2.2.app\u001b[m\u001b[m\n",
       "-rw-r--r--@   1 kutenai  staff   174731203 May  2 18:13 mBlock_mac_v3.2.2.zip\n",
       "-rw-r--r--@   1 kutenai  staff     1274026 Apr 29 20:01 hash_issue_screenshots.zip\n",
       "-rw-r--r--@   1 kutenai  staff    30528046 Apr 29 09:21 Balsamiq_Mockups_3.3.14.dmg\n",
       "-rw-r--r--@   1 kutenai  staff    25615643 Apr 27 19:27 Insync-1.3.6.36076.dmg\n",
       "-rw-r--r--@   1 kutenai  staff    14403769 Apr 27 08:32 node-v6.0.0.pkg\n",
       "drwxr-xr-x@   3 kutenai  staff         102 Apr 25 12:38 \u001b[34mAstropad.app\u001b[m\u001b[m\n",
       "-rw-r--r--@   1 kutenai  staff     6394895 Apr 22 10:53 CraftInstaller.zip\n",
       "drwxr-xr-x    8 kutenai  staff         272 Apr 21 23:59 \u001b[34mbebas-neue.zip Folder\u001b[m\u001b[m\n",
       "-rw-r--r--@   1 kutenai  staff      191373 Apr 21 23:59 bebas-neue.zip\n",
       "drwxr-xr-x@   3 kutenai  staff         102 Apr 16 19:03 \u001b[34mCraftInstaller.app\u001b[m\u001b[m\n",
       "-rw-r--r--@   1 kutenai  staff         198 Apr 14 16:27 Docker_bash 2.sh\n",
       "-rw-r--r--@   1 kutenai  staff         198 Apr 14 16:27 Docker_bash.sh\n",
       "-rw-r--r--@   1 kutenai  staff    46386306 Apr 14 15:37 postgresql-9.5.2-1-osx.dmg\n",
       "-rw-r--r--    1 kutenai  staff   210744584 Apr 14 15:13 DockerToolbox-1.11.0.exe\n",
       "drwxr-xr-x@   3 kutenai  staff         102 Apr 14 15:05 \u001b[34m$RECYCLE.BIN\u001b[m\u001b[m\n",
       "-rw-r--r--@   1 kutenai  staff   306870876 Apr 14 14:48 ParallelsDesktop-11.1.3-32521.dmg\n",
       "-rw-r--r--@   1 kutenai  staff   188520546 Apr 14 14:42 DockerToolbox-1.11.0.pkg\n",
       "-rw-r--r--@   1 kutenai  staff    46772089 Apr  9 10:13 Aldryn Desktop (1).dmg\n",
       "-rw-r--r--@   1 kutenai  staff       13312 Mar 31 12:30 Toggl_time_entries_2016-03-20_to_2016-03-26.xls\n",
       "-rw-r--r--@   1 kutenai  staff   317151154 Mar 30 11:44 ideaIC-2016.1.1.dmg\n",
       "-rw-r--r--@   1 kutenai  staff     6102132 Mar 30 09:39 Lato2OFL.zip\n",
       "-rw-r--r--@   1 kutenai  staff    27309754 Mar 30 08:43 sketch.zip\n",
       "-rw-r--r--@   1 kutenai  staff    13415263 Mar 26 22:12 TextMate_2.0-beta.9.tbz\n",
       "-rw-r--r--@   1 kutenai  staff   183363640 Mar 26 22:00 DockerToolbox-1.10.3.pkg\n",
       "-rw-r--r--@   1 kutenai  staff   254527573 Mar 25 22:46 pycharm-professional-2016.1.dmg\n",
       "-rw-r--r--@   1 kutenai  staff      508708 Mar 25 15:43 wallaby-intellij-v1.0.53.zip\n",
       "-rw-r--r--@   1 kutenai  staff     5458944 Mar 24 11:20 schematics_users.xls\n",
       "-rw-r--r--@   1 kutenai  staff    65725665 Mar 23 17:16 OLB_4.2.1_StarterPack.dmg\n",
       "-rw-r--r--@   1 kutenai  staff    13545913 Mar 23 17:15 install_advance_5.00.03.exe\n",
       "-rw-r--r--@   1 kutenai  staff      127488 Mar 23 10:48 83802031_3.DOC\n",
       "-rw-r--r--@   1 kutenai  staff   195587836 Mar 22 13:14 WebStorm-2016.1.dmg\n",
       "drwxr-xr-x    4 kutenai  staff         136 Mar 16  2016 \u001b[34mwallaby-intellij\u001b[m\u001b[m\n",
       "-rw-r--r--@   1 kutenai  staff    10984255 Mar 14  2016 Sublime Text Build 3103.dmg\n",
       "-rw-r--r--@   1 kutenai  staff        1261 Mar 13  2016 Timesheet-2016-03-14-0446AM.csv\n",
       "-rw-------    1 kutenai  staff       34664 Mar 13  2016 emailreceipt_20151231R3034296078.pdf\n",
       "-rw-r--r--@   1 kutenai  staff        9418 Mar  9  2016 lion.jpeg\n",
       "drwxr-xr-x@   3 kutenai  staff         102 Mar  9  2016 \u001b[34mArduino.app\u001b[m\u001b[m\n",
       "-rw-r--r--@   1 kutenai  staff  5626394948 Mar  9  2016 IBM_AspenCore_UserFeedback.mov\n",
       "-rw-r--r--@   1 kutenai  staff       48892 Mar  9  2016 arduino_1.0.0.zip\n",
       "drwxr-xr-x    6 kutenai  staff         204 Mar  9  2016 \u001b[34miot-arduino\u001b[m\u001b[m\n",
       "-rw-r--r--    1 kutenai  staff       51564 Mar  9  2016 iot-arduino.git\n",
       "-rw-r--r--@   1 kutenai  staff   146680428 Mar  9  2016 arduino-1.6.8-macosx.zip\n",
       "-rw-r--r--@   1 kutenai  staff       77427 Mar  9  2016 download.html\n",
       "-rw-r--r--@   1 kutenai  staff     3058525 Mar  9  2016 STWebPlayerLL.dmg\n",
       "-rw-r--r--@   1 kutenai  staff     1062246 Mar  9  2016 startbootstrap-clean-blog-1.0.4 (1).zip\n",
       "drwxr-xr-x   15 kutenai  staff         510 Mar  4  2016 \u001b[34mstartbootstrap-clean-blog-1.0.4\u001b[m\u001b[m\n",
       "-rw-r--r--@   1 kutenai  staff   182639381 Mar  3  2016 DockerToolbox-1.10.2.pkg\n",
       "-rw-r--r--@   1 kutenai  staff        1529 Mar  2  2016 ical-event-2333.ics\n",
       "-rw-r--r--@   1 kutenai  staff     3341022 Mar  1  2016 duet-1-5-4-9.zip\n",
       "-rw-r--r--@   1 kutenai  staff     1062246 Mar  1  2016 startbootstrap-clean-blog-1.0.4.zip\n",
       "-rw-r--r--@   1 kutenai  staff    68754904 Mar  1  2016 Aldryn Desktop.dmg\n",
       "-rw-r--r--@   1 kutenai  staff   341071315 Mar  1  2016 mysql-5.7.11-osx10.10-x86_64.dmg\n",
       "-rw-r--r--@   1 kutenai  staff    42035444 Feb 29  2016 SourceTree_2.2.2.dmg\n",
       "-rw-------    1 kutenai  staff      115223 Feb 29  2016 Invoice_INVJBA028830.pdf\n",
       "-rw-r--r--@   1 kutenai  staff   240803502 Feb 29  2016 pycharm-professional-5.0.4-jdk-bundled.dmg\n",
       "drwxr-xr-x@   3 kutenai  staff         102 Feb 28  2016 \u001b[34mghc-7.10.3.app\u001b[m\u001b[m\n",
       "-rw-r--r--@   1 kutenai  staff    24038487 Feb 27  2016 python-3.5.1-macosx10.6.pkg\n",
       "-rw-r--r--@   1 kutenai  staff    22162527 Feb 27  2016 python-2.7.11-macosx10.6.pkg\n",
       "-rw-r--r--@   1 kutenai  staff    13174976 Feb 27  2016 node-v5.7.0.pkg\n",
       "-rw-r--r--@   1 kutenai  staff          32 Feb 27  2016 gridview.json\n",
       "-rw-r--r--@   1 kutenai  staff    20137727 Feb 27  2016 keyboardmaestro-703.zip\n",
       "-rw-r--r--@   1 kutenai  staff     1358354 Feb 26  2016 Knox-2.3.2.zip\n",
       "-rw-------@   1 kutenai  staff       34150 Feb 26  2016 Annotated code for Tealium tagging changes.docx\n",
       "-rw-------@   1 kutenai  staff      735232 Feb 26  2016 Scheme-it to Tealium-1.doc\n",
       "-rw-------@   1 kutenai  staff      735232 Feb 26  2016 Scheme-it to Tealium.doc\n",
       "drwxr-xr-x@   3 kutenai  staff         102 Feb 19  2016 \u001b[34mTower.app\u001b[m\u001b[m\n",
       "-rw-------@   1 kutenai  staff      697344 Feb 17  2016 Design Tools Update PR_DRAFT.DOC\n",
       "-rw-r--r--@   1 kutenai  staff  1378378228 Feb 14  2016 Microsoft_Office_2016_Installer.pkg\n",
       "-rw-r--r--@   1 kutenai  staff    82485112 Feb 11  2016 Firefox 44.0.2.dmg\n",
       "-rw-r--r--@   1 kutenai  staff   101518997 Feb  9  2016 navicat112_premium_en.dmg\n",
       "-rw-r--r--@   1 kutenai  staff     8014924 Feb  9  2016 Sublime Text 2.0.2.dmg\n",
       "-rw-r--r--@   1 kutenai  staff     3189068 Feb  9  2016 iTerm2-2_1_4.zip\n",
       "-rw-r--r--@   1 kutenai  staff    83751935 Feb  9  2016 Scrivener.dmg\n",
       "-rw-------@   1 kutenai  staff       59086 Feb  9  2016 Schemeit RFD and Part Selling Sheet .docx\n",
       "-rw-------@   1 kutenai  staff       48525 Feb  9  2016 PCBWeb Part and Schematic Integration.docx\n",
       "-rw-r--r--@   1 kutenai  staff    10950442 Feb  6  2016 ZoomInstaller.pkg\n",
       "-rw-r--r--@   1 kutenai  staff    82253271 Feb  4  2016 DEVONthink_Pro.dmg\n",
       "-rw-r-----@   1 kutenai  staff      829560 Jan 28  2016 AdobeReader_dc_en_a_install.dmg\n",
       "-rw-------    1 kutenai  staff           0 Jan 14  2016 .localized\n",
       "-rw-r--r--@   1 kutenai  staff    42241572 Jan 11  2016 Skype_7.19.407.dmg\n",
       "-rw-r--r--@   1 kutenai  staff     4167184 Dec 31  2015 DisplayLink_Mac_OS_X_2.5.dmg\n",
       "-rw-r--r--@   1 kutenai  staff    83705145 Dec  8  2015 papers_342_439.dmg\n",
       "drwxr-xr-x@   3 kutenai  admin         102 Sep 18  2015 \u001b[34mLCC Installer.app\u001b[m\u001b[m\n",
       "drwxr-xr-x   22 kutenai  staff         748 Aug  6  2015 \u001b[34mLato2OFL\u001b[m\u001b[m\n",
       "-rw-r--r--@   1 kutenai  staff    42974919 May 19  2015 Macaw1.5.15.dmg"
      ]
     },
     "execution_count": 48,
     "metadata": {},
     "output_type": "execute_result"
    }
   ],
   "source": [
    "recent(d)"
   ]
  },
  {
   "cell_type": "code",
   "execution_count": 49,
   "metadata": {
    "collapsed": false
   },
   "outputs": [
    {
     "data": {
      "text/plain": [
       "total 28721704\n",
       "drwx------+ 182 kutenai  staff        6188 Sep 14 15:41 \u001b[34m.\u001b[m\u001b[m\n",
       "-rw-r--r--@   1 kutenai  staff   273751675 Sep 14 15:41 ParallelsDesktop-12.0.1-41296.dmg\n",
       "-rw-------@   1 kutenai  staff       21385 Sep 14 09:28 Ed Henderson 2016 Fall Friday-7pm-1.xlsx\n",
       "-rw-------@   1 kutenai  staff       21419 Sep 14 09:19 Ed Henderson 2016 Fall Friday-7pm.xlsx\n",
       "-rw-r--r--@   1 kutenai  staff       10244 Sep 13 07:35 .DS_Store\n",
       "-rw-r--r--@   1 kutenai  staff    33329801 Sep 10 23:29 slingtv (1).dmg\n",
       "drwxr-xr-x@  78 kutenai  staff        2652 Sep  8 14:07 \u001b[34m..\u001b[m\u001b[m\n",
       "-rw-r--r--@   1 kutenai  staff   492797297 Sep  8 13:39 ideaIU-2016.2.3.dmg\n",
       "-rw-r--r--@   1 kutenai  staff   207564174 Sep  4 07:38 WebStorm-2016.2.2.dmg"
      ]
     },
     "execution_count": 49,
     "metadata": {},
     "output_type": "execute_result"
    }
   ],
   "source": [
    "head(recent(d))"
   ]
  },
  {
   "cell_type": "code",
   "execution_count": null,
   "metadata": {
    "collapsed": true
   },
   "outputs": [],
   "source": []
  }
 ],
 "metadata": {
  "kernelspec": {
   "display_name": "Python 3",
   "language": "python",
   "name": "python3"
  },
  "language_info": {
   "codemirror_mode": {
    "name": "ipython",
    "version": 3
   },
   "file_extension": ".py",
   "mimetype": "text/x-python",
   "name": "python",
   "nbconvert_exporter": "python",
   "pygments_lexer": "ipython3",
   "version": "3.5.1"
  }
 },
 "nbformat": 4,
 "nbformat_minor": 1
}
