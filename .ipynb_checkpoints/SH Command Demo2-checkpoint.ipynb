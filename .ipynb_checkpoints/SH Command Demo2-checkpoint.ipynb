{
 "cells": [
  {
   "cell_type": "markdown",
   "metadata": {},
   "source": [
    "You can import a specific command and use it directly."
   ]
  },
  {
   "cell_type": "code",
   "execution_count": 1,
   "metadata": {
    "collapsed": true
   },
   "outputs": [],
   "source": [
    "from sh import curl"
   ]
  },
  {
   "cell_type": "code",
   "execution_count": 2,
   "metadata": {
    "collapsed": false
   },
   "outputs": [
    {
     "data": {
      "text/plain": [
       "<!DOCTYPE html>\n",
       "<html class=\"no-js\" lang=\"en\" dir=\"ltr\" prefix=\"content: http://purl.org/rss/1.0/modules/content/ dc: http://purl.org/dc/terms/ foaf: http://xmlns.com/foaf/0.1/ og: http://ogp.me/ns# rdfs: http://www.w3.org/2000/01/rdf-schema# sioc: http://rdfs.org/sioc/ns# sioct: http://rdfs.org/sioc/types# skos: http://www.w3.org/2004/02/skos/core# xsd: http://www.w3.org/2001/XMLSchema#\">\n",
       "  <head>\n",
       "    <meta charset=\"utf-8\" />\n",
       "<meta property=\"og:site_name\" content=\"NASA\" />\n",
       "<meta name=\"dcterms.format\" content=\"text/html\" />\n",
       "<meta name=\"dcterms.type\" content=\"Text\" />\n",
       "<meta name=\"generator\" content=\"Drupal 7 (http://drupal.org)\" />\n",
       "<meta property=\"twitter:card\" content=\"summary_large_image\" />\n",
       "<meta property=\"twitter:site:id\" content=\"11348282\" />\n",
       "<link rel=\"profile\" href=\"http://www.w3.org/1999/xhtml/vocab\" />\n",
       "<link rel=\"shortcut icon\" href=\"/favicon.ico\" type=\"image/vnd.microsoft.icon\" />\n",
       "<meta property=\"twitter:image\" content=\"http://www.nasa.gov/sites/default/files/images/nasaLogo-570x450.png\" />\n",
       "<meta property=\"twitter:url\" content=\"/index.html\" />\n",
       "<meta property=\"twitter:site\" content=\"@NASA\" />\n",
       "<meta property=\"twitter:description\" content=\"Pioneering the future in space exploration, scientific discovery and aeronautics research.\" />\n",
       "<meta name=\"dcterms.title\" content=\"NASA\" />\n",
       "<link rel=\"shortlink\" href=\"/\" />\n",
       "<link rel=\"canonical\" href=\"/\" />\n",
       "<meta name=\"description\" content=\"NASA.gov brings you the latest news, images and videos from America&#039;s space agency, pioneering the future in space exploration, scientific discovery and aeronautics research.\" />\n",
       "<meta name=\"dcterms.identifier\" content=\"/\" />\n",
       "<meta property=\"og:title\" content=\"National Aeronautics and Space Administration\" />\n",
       "<meta property=\"og:url\" content=\"http://www.nasa.gov/index.html\" />\n",
       "<meta property=\"og:image\" content=\"http://www.nasa.gov/sites/default/files/images/nasaLogo-570x450.png\" />\n",
       "<meta property=\"og:type\" content=\"website\" />\n",
       "<meta property=\"twitter:title\" content=\"National Aeronautics and Space Administration\" />\n",
       "<meta property=\"og:description\" content=\"NASA.gov brings you the latest news, images and videos from America&#039;s space agency, pioneering the future in space exploration, scientific discovery and aeronautics research.\" />\n",
       "<meta name=\"viewport\" content=\"width=device-width, initial-scale=1.0, maximum-scale=10.0\" />\n",
       "    <title>NASA</title>\n",
       "    <meta name=\"nasa/config/environment\" content=\"%7B%22modulePrefix%22%3A%22nasa%22%2C%22environment%22%3A%22development%22%2C%22baseURL%22%3A%22/%22%2C%22locationType%22%3A%22none%22%2C%22EmberENV%22%3A%7B%22FEATURES%22%3A%7B%7D%7D%2C%22APP%22%3A%7B%22LOG_ACTIVE_GENERATION%22%3Atrue%2C%22LOG_VIEW_LOOKUPS%22%3Atrue%7D%2C%22contentSecurityPolicyHeader%22%3A%22Content-Security-Policy-Report-Only%22%2C%22contentSecurityPolicy%22%3A%7B%22default-src%22%3A%22%27none%27%22%2C%22script-src%22%3A%22%27self%27%20%27unsafe-eval%27%22%2C%22font-src%22%3A%22%27self%27%22%2C%22connect-src%22%3A%22%27self%27%22%2C%22img-src%22%3A%22%27self%27%22%2C%22style-src%22%3A%22%27self%27%22%2C%22media-src%22%3A%22%27self%27%22%7D%2C%22exportApplicationGlobal%22%3Atrue%7D\" />\n",
       "    <meta http-equiv=\"X-UA-Compatible\" content=\"IE=Edge,chrome=1\" />\n",
       "    <link rel=\"apple-touch-icon\" href=\"/sites/all/themes/custom/nasatwo/images/apple-touch-icon.png\">\n",
       "    <link rel=\"apple-touch-icon\" sizes=\"76x76\" href=\"/sites/all/themes/custom/nasatwo/images/apple-touch-icon-76x76.png\">\n",
       "    <link rel=\"apple-touch-icon\" sizes=\"120x120\" href=\"/sites/all/themes/custom/nasatwo/images/apple-touch-icon-120x120.png\">\n",
       "    <link rel=\"apple-touch-icon\" sizes=\"152x152\" href=\"/sites/all/themes/custom/nasatwo/images/apple-touch-icon-152x152.png\">\n",
       "    <style>\n",
       "@import url(\"/sites/all/modules/custom/scald_before_after_image/scald_before_after_image.css?odi6rb\");\n",
       "@import url(\"/sites/all/modules/custom/scald_htmlsnippet/scald_htmlsnippet.css?odi6rb\");\n",
       "@import url(\"/sites/all/modules/custom/scald_iframe/scald_iframe.css?odi6rb\");\n",
       "</style>\n",
       "<style>\n",
       "@import url(\"/sites/all/modules/contributed/jreject/jReject/css/jquery.reject.css?odi6rb\");\n",
       "@import url(\"/sites/all/modules/custom/nasa_cards/plugins/layouts/card_feed/card-feed.css?odi6rb\");\n",
       "</style>\n",
       "<link type=\"text/css\" rel=\"stylesheet\" href=\"/sites/all/themes/custom/nasatwo/css/vendor.css?odi6rb\" media=\"all\" />\n",
       "<link type=\"text/css\" rel=\"stylesheet\" href=\"/sites/all/themes/custom/nasatwo/css/nasa.css?odi6rb\" media=\"all\" />\n",
       "    <script language=\"javascript\" id=\"_fed_an_ua_tag\" src=\"https://dap.digitalgov.gov/Universal-Federated-Analytics-Min.js?agency=NASA&yt=true&dclink=true\"></script>\n",
       "            <script type=\"text/javascript\">\n",
       "    ;(function (g) {\n",
       "        var d = document, i, am = d.createElement('script'), h = d.head || d.getElementsByTagName(\"head\")[0],\n",
       "                aex = {\n",
       "                  \"src\": \"//gateway.answerscloud.com/nasa-gov/production/gateway.min.js\",\n",
       "                    \"type\": \"text/javascript\",\n",
       "                    \"async\": \"true\",\n",
       "                    \"data-vendor\": \"acs\",\n",
       "                    \"data-role\": \"gateway\"\n",
       "                };\n",
       "        for (var attr in aex) { am.setAttribute(attr,aex[attr]); }\n",
       "        h.appendChild(am);\n",
       "        g['acsReady'] = function () {var aT = '__acsReady__', args = Array.prototype.slice.call(arguments, 0),k = setInterval(function () {if (typeof g[aT] === 'function') {clearInterval(k);for (i = 0; i < args.length; i++) {g[aT].call(g, function(fn) { return function() { setTimeout(fn, 1) };}(args[i]));}}}, 50);};\n",
       "    })(window);\n",
       "    </script>\n",
       "        <script src=\"/sites/all/modules/scald_twitter/scald_twitter.js?odi6rb\"></script>\n",
       "<script>window.Drupal = {behaviors: {}};</script>\n",
       "<script src=\"/sites/all/themes/custom/nasatwo/js/vendor.js?odi6rb\"></script>\n",
       "<script src=\"/sites/all/themes/custom/nasatwo/js/nasa.js?odi6rb\"></script>\n",
       "<script src=\"/sites/all/modules/contributed/jreject/jReject/js/jquery.reject.js?odi6rb\"></script>\n",
       "  </head>\n",
       "  <body class=\"html front not-logged-in page-indexhtml show-topics-menu\" class=\"Array\">\n",
       "        <div class=\"l-page ember-init-hide\">\n",
       "  <header class=\"l-header container-fluid\" role=\"banner\"></header>\n",
       "  <div class=\"l-main\">\n",
       "    <div class=\"l-content container-fluid\" id=\"main\" role=\"main\">\n",
       "      <script>\n",
       "window.landingPage = {\"id\":\"1\",\n",
       "\"cardPageType\":\"0\",\n",
       "\"title\": true ? \"NASA Home Page\" : \"Empty landing page\",\n",
       "\"body\":\"\",\n",
       "\"topics\":[],\n",
       "\"missions\":[],\n",
       "\"collections\":[],\n",
       "\"otherTags\":[],\n",
       "\"socialEmbedCode\":null,\n",
       "\"addthisProfileID\":null,\n",
       "\"allSocialMediaLink\":null,\n",
       "\"submenu\":{\"shortName\":null,\n",
       "\"subtopicLinks\":[]},\n",
       "\"sidemenu\":{\"heading\":null,\n",
       "\"leftsideMenuLinks\":[]},\n",
       "\"cardpageLinks\":[],\n",
       "\"topPattern\":  ['1x1', '2x1', '1x1', '1x1', '1x1', '2x1', '1x1', '1x1', '1x1', '1x1', '2x1', '2x1'],\n",
       "\"govDeliveryId\":null};\n",
       "window.forcedRoute = \"landingPage\";\n",
       "window.cardFeed = [{\"type\":\"ubercard\",\"title\":\"Pluto \\u2018Paints\\u2019 its Largest Moon Red\",\"position\":\"1\",\"node\":\"390976\",\"altTitle\":null,\"visibleTag\":\"primary\",\"id\":\"9455\"},{\"type\":\"ubercard\",\"title\":\"NASA Begins Study of Australia's Great Barrier Reef \",\"position\":\"5\",\"node\":\"390970\",\"altTitle\":null,\"visibleTag\":\"primary\",\"id\":\"9422\"},{\"type\":\"event\",\"title\":\"Homepage Events\",\"position\":\"3\",\"links\":[{\"url\":\"\\/mission_pages\\/station\\/expeditions\\/expedition49\\/index.html\",\"title\":\"Friday, Sept. 23: Expedition 49 Launch to International Space Station, 2:16 p.m. EDT (NASA TV Begins 1 p.m.)\",\"id\":\"37-0\"},{\"url\":\"\\/content\\/goddard\\/2016\\/spothubble\",\"title\":\"NASA Invites You to #SpotHubble\",\"id\":\"37-1\"}],\"launch\":{\"id\":\"ab8b14702ad2eb430159bea207d085e9\",\"title\":\"Launches and Landings\",\"url\":\"\\/launchschedule\"},\"calendar\":{\"id\":\"9bfb9f1dc5aa7e277009dd3d643cd4bf\",\"title\":\"Calendar\",\"url\":\"\\/calendar\"},\"date\":\"2016-09-23T14:16:00-04:00\",\"countdown\":\"1\",\"id\":\"37\"},{\"type\":\"ubercard\",\"title\":\"Sept. 14, 1966 - View From Gemini XI, 850 Miles Above the Earth\",\"position\":\"8\",\"node\":\"390987\",\"altTitle\":null,\"visibleTag\":\"secondary\",\"id\":\"6361\"},{\"type\":\"twittere\",\"title\":\"@NASA Tweets\",\"position\":\"7\",\"embedUrl\":\"530415718630555648\",\"id\":\"36\"},{\"type\":\"card_feed\",\"routes\":[\"1\"],\"unType\":[\"feature\",\"image\",\"press_release\",\"collection_asset\",\"mediacast\"],\"id\":\"35\"},{\"type\":\"video_feed\",\"title\":\"video feed\",\"ytPlaylistId\":\"PLiuUQ9asub3Qq1AQRirDI-naOwo1H5gaB\",\"feedLimit\":25},{\"type\":\"pattern\",\"pattern\":[\"2x2\",\"1x1\",\"1x1\",\"2x1\",\"1x1\",\"2x1\",\"1x1\",\"1x1\",\"1x1\",\"1x1\",\"1x1\"]},{\"type\":\"ubercard\",\"title\":\"Spot the International Space Station from Your Town\",\"position\":\"10\",\"node\":\"363776\",\"altTitle\":\"Look Up! Spot the Station\",\"visibleTag\":\"primary\",\"id\":\"4524\"},];\n",
       "</script>\n",
       "    </div>\n",
       "  </div>\n",
       "  <footer class=\"l-footer container-fluid\" role=\"contentinfo\"></footer>\n",
       "</div>\n",
       "\n",
       "    <script>  (function($) {\n",
       "    $.reject({\n",
       "    display: [\"msie\", \"firefox\", \"safari\", \"opera\", \"chrome\", \"gcf\"],\n",
       "      reject: {  \n",
       "          msie5: true, msie6: true, msie7: true, msie8: true, msie9: true, firefox2: true, firefox3: true, firefox4: true, firefox5: true, firefox6: true, firefox7: true, firefox8: true, firefox9: true, safari1: true, safari2: true, safari3: true, safari4: true, opera1: true, opera2: true, opera3: true, opera4: true, opera5: true, opera6: true, opera7: true, opera8: true, opera9: true\n",
       "      },\n",
       "      imagePath: '/sites/all/modules/contributed/jreject/jReject/images/',\n",
       "      enable: true, header: \"Did you know that your Internet Browser is out of date?\", paragraph1: \"To ensure that all features of NASA.gov work effectively, please upgrade to the latest version of one of these web browsers. <br /><br />For Internet Explorer users: The site will only be fully functional on version 11 with compatibility mode turned off. If you're using version 11 and you're seeing this message, compatibility mode is turned on in your browser. If you need compatibility mode turned on to use other sites or applications, you'll need to use another browser to see the full NASA site.\", paragraph2: \"Just click on the icons to get to the download page:\", closeMessage: \"By closing this window you acknowledge that your experience on this website may be degraded.\", closeLink: \"Close This Window\", closeURL: \"#\", close: true, closeESC: true, closeCookie: true, overlayBgColor: \"#000\", overlayOpacity: 0.8, fadeInTime: \"fast\", fadeOutTime: \"fast\"\n",
       "    }); \n",
       "  })(jQuery);</script>\n",
       "    <script>\n",
       "      /**\n",
       "       * © 2011-2014 iPerceptions, Inc. All rights reserved. Do not distribute.\n",
       "       * iPerceptions provides this code 'as is' without warranty of any kind,\n",
       "       * either express or implied.\n",
       "       */\n",
       "\n",
       "     window.iperceptionskey = 'CTS00001';\n",
       "     (function () {\n",
       "       var a = document.createElement('script'),\n",
       "           b = document.getElementsByTagName('body')[0];\n",
       "       a.type = 'text/javascript';\n",
       "       a.async = true;\n",
       "       a.src = '//universal.iperceptions.com/wrapper.js';b.appendChild(a);\n",
       "     })();\n",
       "    </script>\n",
       "  </body>\n",
       "</html>"
      ]
     },
     "execution_count": 2,
     "metadata": {},
     "output_type": "execute_result"
    }
   ],
   "source": [
    "curl(\"http://www.nasa.gov\")"
   ]
  },
  {
   "cell_type": "code",
   "execution_count": 7,
   "metadata": {
    "collapsed": false
   },
   "outputs": [
    {
     "data": {
      "text/plain": []
     },
     "execution_count": 7,
     "metadata": {},
     "output_type": "execute_result"
    }
   ],
   "source": [
    "curl(\"https://duckduckgo.com/\", o=\"page.html\")"
   ]
  },
  {
   "cell_type": "code",
   "execution_count": null,
   "metadata": {
    "collapsed": true
   },
   "outputs": [],
   "source": []
  }
 ],
 "metadata": {
  "kernelspec": {
   "display_name": "Python 3",
   "language": "python",
   "name": "python3"
  },
  "language_info": {
   "codemirror_mode": {
    "name": "ipython",
    "version": 3
   },
   "file_extension": ".py",
   "mimetype": "text/x-python",
   "name": "python",
   "nbconvert_exporter": "python",
   "pygments_lexer": "ipython3",
   "version": "3.5.1"
  }
 },
 "nbformat": 4,
 "nbformat_minor": 1
}
