{
 "cells": [
  {
   "cell_type": "code",
   "execution_count": 1,
   "metadata": {
    "collapsed": true
   },
   "outputs": [],
   "source": [
    "import sh"
   ]
  },
  {
   "cell_type": "code",
   "execution_count": 2,
   "metadata": {
    "collapsed": false
   },
   "outputs": [
    {
     "data": {
      "text/plain": [
       "\u001b[34mApplications\u001b[m\u001b[m              \u001b[34mbin\u001b[m\u001b[m                       \u001b[34mnet\u001b[m\u001b[m\n",
       "\u001b[34mLibrary\u001b[m\u001b[m                   \u001b[34mcores\u001b[m\u001b[m                     \u001b[34mprivate\u001b[m\u001b[m\n",
       "\u001b[34mNetwork\u001b[m\u001b[m                   \u001b[34mdev\u001b[m\u001b[m                       \u001b[34msbin\u001b[m\u001b[m\n",
       "\u001b[34mSystem\u001b[m\u001b[m                    \u001b[35metc\u001b[m\u001b[m                       \u001b[35mtmp\u001b[m\u001b[m\n",
       "\u001b[34mUsers\u001b[m\u001b[m                     \u001b[34mhome\u001b[m\u001b[m                      \u001b[34musr\u001b[m\u001b[m\n",
       "\u001b[30m\u001b[42mVolumes\u001b[m\u001b[m                   installer.failurerequests \u001b[35mvar\u001b[m\u001b[m"
      ]
     },
     "execution_count": 2,
     "metadata": {},
     "output_type": "execute_result"
    }
   ],
   "source": [
    "sh.ls(\"/\")"
   ]
  },
  {
   "cell_type": "code",
   "execution_count": 3,
   "metadata": {
    "collapsed": false
   },
   "outputs": [
    {
     "data": {
      "text/plain": [
       "/Users/kutenai/proj/bapug/sh_module"
      ]
     },
     "execution_count": 3,
     "metadata": {},
     "output_type": "execute_result"
    }
   ],
   "source": [
    "sh.pwd()"
   ]
  },
  {
   "cell_type": "code",
   "execution_count": null,
   "metadata": {
    "collapsed": true
   },
   "outputs": [],
   "source": []
  }
 ],
 "metadata": {
  "kernelspec": {
   "display_name": "Python 3",
   "language": "python",
   "name": "python3"
  },
  "language_info": {
   "codemirror_mode": {
    "name": "ipython",
    "version": 3
   },
   "file_extension": ".py",
   "mimetype": "text/x-python",
   "name": "python",
   "nbconvert_exporter": "python",
   "pygments_lexer": "ipython3",
   "version": "3.5.1"
  }
 },
 "nbformat": 4,
 "nbformat_minor": 0
}
