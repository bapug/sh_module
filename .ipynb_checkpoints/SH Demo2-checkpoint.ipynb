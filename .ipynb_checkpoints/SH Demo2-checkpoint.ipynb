{
 "cells": [
  {
   "cell_type": "code",
   "execution_count": 1,
   "metadata": {
    "collapsed": true
   },
   "outputs": [],
   "source": [
    "import sh"
   ]
  },
  {
   "cell_type": "markdown",
   "metadata": {},
   "source": [
    "The sh module will dynamically lookup any command in the path if you call it like a function.\n",
    "You can pass arguments as well, as seen in these examples of the ls command."
   ]
  },
  {
   "cell_type": "code",
   "execution_count": 5,
   "metadata": {
    "collapsed": false
   },
   "outputs": [
    {
     "data": {
      "text/plain": [
       "SH Demo2.ipynb  SH Module.ipynb"
      ]
     },
     "execution_count": 5,
     "metadata": {},
     "output_type": "execute_result"
    }
   ],
   "source": [
    "sh.ls(\".\")"
   ]
  },
  {
   "cell_type": "code",
   "execution_count": 6,
   "metadata": {
    "collapsed": false
   },
   "outputs": [
    {
     "data": {
      "text/plain": [
       "\u001b[34mbapug_docker\u001b[m\u001b[m \u001b[34mdjango_dev\u001b[m\u001b[m   \u001b[34mml\u001b[m\u001b[m           \u001b[34mpycon2016\u001b[m\u001b[m    \u001b[34msh_module\u001b[m\u001b[m"
      ]
     },
     "execution_count": 6,
     "metadata": {},
     "output_type": "execute_result"
    }
   ],
   "source": [
    "sh.ls(\"..\")"
   ]
  },
  {
   "cell_type": "markdown",
   "metadata": {},
   "source": [
    "If you have more than one argument, you can pass them in as multiple parameters to the command, in the order of the arguments."
   ]
  },
  {
   "cell_type": "code",
   "execution_count": 23,
   "metadata": {
    "collapsed": false
   },
   "outputs": [
    {
     "data": {
      "text/plain": [
       "total 0\n",
       "drwxr-xr-x   7 kutenai  staff   238 Sep 14 15:55 \u001b[34m.\u001b[m\u001b[m\n",
       "drwxr-xr-x  14 kutenai  staff   476 Jul 30 11:13 \u001b[34m..\u001b[m\u001b[m\n",
       "drwxr-xr-x  36 kutenai  staff  1224 Apr 14 22:09 \u001b[34mbapug_docker\u001b[m\u001b[m\n",
       "drwxr-xr-x   7 kutenai  staff   238 Jun  2 18:13 \u001b[34mdjango_dev\u001b[m\u001b[m\n",
       "drwxr-xr-x   3 kutenai  staff   102 May 30 18:31 \u001b[34mml\u001b[m\u001b[m\n",
       "drwxr-xr-x   5 kutenai  staff   170 Jun  3 13:12 \u001b[34mpycon2016\u001b[m\u001b[m\n",
       "drwxr-xr-x  13 kutenai  staff   442 Sep 14 18:41 \u001b[34msh_module\u001b[m\u001b[m"
      ]
     },
     "execution_count": 23,
     "metadata": {},
     "output_type": "execute_result"
    }
   ],
   "source": [
    "sh.ls(\"-la\", \"..\")"
   ]
  },
  {
   "cell_type": "markdown",
   "metadata": {
    "collapsed": true
   },
   "source": [
    "You can also pass in the command with the entre path, if you won't want the magic lookup."
   ]
  },
  {
   "cell_type": "code",
   "execution_count": 24,
   "metadata": {
    "collapsed": false
   },
   "outputs": [],
   "source": [
    "myls = sh.Command(\"/bin/ls\")"
   ]
  },
  {
   "cell_type": "code",
   "execution_count": 25,
   "metadata": {
    "collapsed": false
   },
   "outputs": [
    {
     "data": {
      "text/plain": [
       "SH Command Demo2.ipynb SH and Git.ipynb       python\n",
       "SH Demo2.ipynb         Sh Demo3.ipynb\n",
       "SH Module.ipynb        page.html"
      ]
     },
     "execution_count": 25,
     "metadata": {},
     "output_type": "execute_result"
    }
   ],
   "source": [
    "myls()"
   ]
  },
  {
   "cell_type": "markdown",
   "metadata": {},
   "source": [
    "Note how the result of the .Command call returns a callable that you can use as a function, including with new parameters."
   ]
  },
  {
   "cell_type": "code",
   "execution_count": 20,
   "metadata": {
    "collapsed": false
   },
   "outputs": [
    {
     "data": {
      "text/plain": [
       "total 8\n",
       "drwxrwxrwt  17 root          wheel  578 Sep 14 15:48 \u001b[30m\u001b[42m.\u001b[m\u001b[m\n",
       "drwxr-xr-x@  6 root          wheel  204 Oct 17  2015 \u001b[34m..\u001b[m\u001b[m\n",
       "drwxrwxrwt   3 kutenai       wheel  102 Sep 14 15:42 \u001b[30m\u001b[42m.pd\u001b[m\u001b[m\n",
       "srwxrwxrwx   1 postgres      wheel    0 Sep 14 15:44 \u001b[32m.s.PGSQL.5432\u001b[m\u001b[m\n",
       "-rw-------   1 postgres      wheel   53 Sep 14 15:44 .s.PGSQL.5432.lock\n",
       "srwxr-xr-x   1 kutenai       wheel    0 Sep  4 04:25 \u001b[32mcom.adobe.reader.rna.0.1f5\u001b[m\u001b[m\n",
       "srwxr-xr-x   1 kutenai       wheel    0 Sep  2 17:01 \u001b[32mcom.adobe.reader.rna.27b.1f5\u001b[m\u001b[m\n",
       "srwxr-xr-x   1 kutenai       wheel    0 Sep  4 04:25 \u001b[32mcom.adobe.reader.rna.5f2f.1f5\u001b[m\u001b[m\n",
       "drwx------   3 kutenai       wheel  102 Sep  2 16:59 \u001b[34mcom.apple.launchd.LmnxrhE9qp\u001b[m\u001b[m\n",
       "drwx------   3 kutenai       wheel  102 Sep  2 16:59 \u001b[34mcom.apple.launchd.QLJhECTG7D\u001b[m\u001b[m\n",
       "drwx------   3 _mbsetupuser  wheel  102 Sep  2 16:59 \u001b[34mcom.apple.launchd.UMeK6JcO8h\u001b[m\u001b[m\n",
       "drwx------   3 _mbsetupuser  wheel  102 Sep  2 16:59 \u001b[34mcom.apple.launchd.wchEwJgnFC\u001b[m\u001b[m\n",
       "srwxr-xr-x   1 kutenai       wheel    0 Sep  2 17:02 \u001b[32minsync501.sock\u001b[m\u001b[m\n",
       "srwxrwxrwx   1 _mysql        wheel    0 Sep  2 16:59 \u001b[32mmysql.sock\u001b[m\u001b[m\n",
       "drwxrwxrwx   2 kutenai       wheel   68 Sep 14 15:42 \u001b[30m\u001b[43mparallels_crash_dumps\u001b[m\u001b[m\n",
       "srwxr-xr-x   1 kutenai       wheel    0 Sep  8 12:53 \u001b[32mtextmate-501.sock\u001b[m\u001b[m\n",
       "drwx------   3 kutenai       wheel  102 Sep  4 07:32 \u001b[34mtmux-501\u001b[m\u001b[m"
      ]
     },
     "execution_count": 20,
     "metadata": {},
     "output_type": "execute_result"
    }
   ],
   "source": [
    "myls(\"-al\", \"/tmp/\")"
   ]
  }
 ],
 "metadata": {
  "kernelspec": {
   "display_name": "Python 3",
   "language": "python",
   "name": "python3"
  },
  "language_info": {
   "codemirror_mode": {
    "name": "ipython",
    "version": 3
   },
   "file_extension": ".py",
   "mimetype": "text/x-python",
   "name": "python",
   "nbconvert_exporter": "python",
   "pygments_lexer": "ipython3",
   "version": "3.5.1"
  }
 },
 "nbformat": 4,
 "nbformat_minor": 1
}
